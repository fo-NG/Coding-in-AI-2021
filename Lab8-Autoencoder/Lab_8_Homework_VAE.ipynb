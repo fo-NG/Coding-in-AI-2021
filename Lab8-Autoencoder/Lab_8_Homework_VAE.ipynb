{
  "nbformat": 4,
  "nbformat_minor": 0,
  "metadata": {
    "kernelspec": {
      "display_name": "Python 3",
      "language": "python",
      "name": "python3"
    },
    "language_info": {
      "codemirror_mode": {
        "name": "ipython",
        "version": 3
      },
      "file_extension": ".py",
      "mimetype": "text/x-python",
      "name": "python",
      "nbconvert_exporter": "python",
      "pygments_lexer": "ipython3",
      "version": "3.6.1"
    },
    "colab": {
      "name": "Lab_9_Homework_VAE.ipynb",
      "provenance": [],
      "collapsed_sections": [
        "JnmLooPCugvJ",
        "h3p7l4h9ugvU",
        "nmA1ZF7Iugvh",
        "KkLh4ZCfugvn",
        "gpXkuzNEdS3M",
        "d4KL7cCFugv1"
      ]
    }
  },
  "cells": [
    {
      "cell_type": "markdown",
      "metadata": {
        "id": "3K2m3D9Qugsr"
      },
      "source": [
        "# Lab 9: Variational Autoencoders\n",
        "\n",
        "Name1, Student's ID1<br>\n",
        "Name2, Student's ID2<br>"
      ]
    },
    {
      "cell_type": "markdown",
      "metadata": {
        "id": "KK1lVaeWxwsz"
      },
      "source": [
        "![alt text](https://hackernoon.com/hn-images/1*op0VO_QK4vMtCnXtmigDhA.png)\n",
        "\n"
      ]
    },
    {
      "cell_type": "markdown",
      "metadata": {
        "id": "-3Xtis46ugsw"
      },
      "source": [
        "\n",
        "\n",
        "## Lab Instruction: Generate Random Handwriting Number\n",
        "\n",
        "In this lab, you will learn do the generative model using variational autoencoder to generate random image.</br>\n",
        "\n",
        "This is what we are going to do in this lab: https://www.siarez.com/projects/variational-autoencoder </br>\n",
        "About the variational autoencoder: https://towardsdatascience.com/intuitively-understanding-variational-autoencoders-1bfe67eb5daf\n",
        "\n",
        "This lab, we created model using functional API > https://keras.io/models/model/ \n",
        "\n",
        "### Autoencoder Model\n",
        "\n",
        "![alt text](https://blog.keras.io/img/ae/autoencoder_schema.jpg)\n",
        "\n",
        "\n",
        "***Images from:<br>***\n",
        "*1. <a href=https://blog.keras.io/building-autoencoders-in-keras.html> Keras Blog </a></br>*\n",
        "*2. Manning - Deep Learning with Python Book*\n"
      ]
    },
    {
      "cell_type": "code",
      "metadata": {
        "id": "wswiKohnugsy"
      },
      "source": [
        "# Import required libraries\n",
        "import keras\n",
        "from keras import models\n",
        "from keras import layers\n",
        "from keras import backend as K\n",
        "from keras import callbacks\n",
        "\n",
        "import numpy as np\n",
        "import matplotlib.pyplot as plt\n",
        "from scipy.stats import norm\n",
        "\n",
        "from sklearn.model_selection import train_test_split\n",
        "\n",
        "%matplotlib inline"
      ],
      "execution_count": null,
      "outputs": []
    },
    {
      "cell_type": "markdown",
      "metadata": {
        "id": "3K08vM2yugs9"
      },
      "source": [
        "### Load MNIST data "
      ]
    },
    {
      "cell_type": "code",
      "metadata": {
        "id": "9oaHtEg0ugs-"
      },
      "source": [
        "# Load MNIST data\n",
        "from keras.datasets import mnist\n",
        "\n",
        "(x_train, y_train), (x_test, y_test) = mnist.load_data()"
      ],
      "execution_count": null,
      "outputs": []
    },
    {
      "cell_type": "code",
      "metadata": {
        "id": "N0UM0Nd-ugtG"
      },
      "source": [
        "# Data exploration: Shape\n",
        "x_train.shape"
      ],
      "execution_count": null,
      "outputs": []
    },
    {
      "cell_type": "code",
      "metadata": {
        "id": "8bTsEai5ugtM"
      },
      "source": [
        "# Data exploration: Data type\n",
        "x_train.dtype"
      ],
      "execution_count": null,
      "outputs": []
    },
    {
      "cell_type": "code",
      "metadata": {
        "id": "hOa1JKJ4ugtT"
      },
      "source": [
        "# Min, Max value\n",
        "np.min(x_train),np.max(x_train)"
      ],
      "execution_count": null,
      "outputs": []
    },
    {
      "cell_type": "markdown",
      "metadata": {
        "id": "cg3ZToHDugtW"
      },
      "source": [
        "### Preprocess data "
      ]
    },
    {
      "cell_type": "code",
      "metadata": {
        "id": "ZV6ycfagugtX"
      },
      "source": [
        "# Reshape and normalize\n",
        "x_train = x_train.reshape(x_train.shape[0],x_train.shape[1],x_train.shape[2],1)\n",
        "x_train = x_train/255.\n",
        "\n",
        "x_test = x_test.reshape(x_test.shape[0],x_test.shape[1],x_test.shape[2],1)\n",
        "x_test = x_test/255."
      ],
      "execution_count": null,
      "outputs": []
    },
    {
      "cell_type": "code",
      "metadata": {
        "id": "VEQjXIpwugtk"
      },
      "source": [
        "# shape after preprocess\n",
        "x_train.shape"
      ],
      "execution_count": null,
      "outputs": []
    },
    {
      "cell_type": "markdown",
      "metadata": {
        "id": "_V-2o3l2ugto"
      },
      "source": [
        "### Split Train, Test, Validation data "
      ]
    },
    {
      "cell_type": "code",
      "metadata": {
        "id": "CoAHcH-kugtp"
      },
      "source": [
        "# Split data\n",
        "x_train, x_val, y_train, y_val = train_test_split(x_train,y_train,\n",
        "                                                  test_size=0.1,\n",
        "                                                  stratify=y_train,\n",
        "                                                  random_state=0)"
      ],
      "execution_count": null,
      "outputs": []
    },
    {
      "cell_type": "markdown",
      "metadata": {
        "id": "XPqEPpq3ugtw"
      },
      "source": [
        "### Create variational autoencoder model \n",
        "\n",
        "In technical terms, here’s how a VAE works:\n",
        "1. An encoder module turns the input samples input_img into two parameters in a latent space of representations, z_mean and z_log_variance.\n",
        "2. You randomly sample a point z from the latent normal distribution that’s assumed to generate the input image, via\n",
        "> z= z_mean+exp(z_log_variance)* epsilon, *where epsilon is a random tensor of small values.*\n",
        "3. A decoder module maps this point in the latent space back to the original input image."
      ]
    },
    {
      "cell_type": "code",
      "metadata": {
        "id": "sJoP6s-4ugtx"
      },
      "source": [
        "# Define variables\n",
        "input_shape=(28,28,1)\n",
        "batch_size=16\n",
        "latent_dim=2 # 2 latent vector to represent MNIST data"
      ],
      "execution_count": null,
      "outputs": []
    },
    {
      "cell_type": "code",
      "metadata": {
        "id": "PFMEdCHxugt1"
      },
      "source": [
        "# Encoder Model\n",
        "\n"
      ],
      "execution_count": null,
      "outputs": []
    },
    {
      "cell_type": "code",
      "metadata": {
        "id": "2f7801tOugt5"
      },
      "source": [
        "# Variation Parameters\n",
        "z_mean = layers.Dense(latent_dim)(x)\n",
        "z_log_var = layers.Dense(latent_dim)(x)"
      ],
      "execution_count": null,
      "outputs": []
    },
    {
      "cell_type": "code",
      "metadata": {
        "id": "Adhjuz4Lugt9"
      },
      "source": [
        "# Sampling distribution funtion\n",
        "\n",
        "def sampling(arg):\n",
        "    z_mean, z_log_var = arg\n",
        "    epsilon = K.random_normal(shape=(K.shape(z_mean)[0],latent_dim),mean=0., stddev=1.)\n",
        "    return z_mean + K.exp(z_log_var) * epsilon"
      ],
      "execution_count": null,
      "outputs": []
    },
    {
      "cell_type": "code",
      "metadata": {
        "id": "HdkOu7QMuguC"
      },
      "source": [
        "# Distribution function sampling layer\n",
        "z = layers.Lambda(sampling)([z_mean, z_log_var])"
      ],
      "execution_count": null,
      "outputs": []
    },
    {
      "cell_type": "markdown",
      "metadata": {
        "id": "w4JyxvsIuguI"
      },
      "source": [
        "To define a deconvolution layer\n",
        "> ```layers.Conv2DTranspose( )```\n",
        "\n",
        "See: https://keras.io/layers/convolutional/ Search for ```Conv2DTranspose```"
      ]
    },
    {
      "cell_type": "code",
      "metadata": {
        "id": "6OU1SAAxuguK"
      },
      "source": [
        "# Decoder model\n"
      ],
      "execution_count": null,
      "outputs": []
    },
    {
      "cell_type": "code",
      "metadata": {
        "id": "lB25fXcVuguN"
      },
      "source": [
        "# Wrap up encoder model\n"
      ],
      "execution_count": null,
      "outputs": []
    },
    {
      "cell_type": "code",
      "metadata": {
        "id": "5s-qizZ7uguW"
      },
      "source": [
        "# Wrap up decoder model\n"
      ],
      "execution_count": null,
      "outputs": []
    },
    {
      "cell_type": "code",
      "metadata": {
        "id": "n_-yN5hdugud"
      },
      "source": [
        "# Warp up VAE model\n"
      ],
      "execution_count": null,
      "outputs": []
    },
    {
      "cell_type": "markdown",
      "metadata": {
        "id": "osjQ4Bh7uguk"
      },
      "source": [
        "The parameters of a VAE are trained via two loss functions: \n",
        "1. A reconstruction loss that forces the decoded samples to match the initial inputs.\n",
        "2. A regularization loss (The Kullback-Liebler divergence) that helps learn well-formed latent spaces and reduce overfitting to the training data."
      ]
    },
    {
      "cell_type": "code",
      "metadata": {
        "id": "1OdabyEEugum"
      },
      "source": [
        "# Create custom loss function\n",
        "\n",
        "def vae_loss(x, x_decoded_mean):\n",
        "    xent_loss = K.binary_crossentropy(x, x_decoded_mean)\n",
        "    kl_loss = - 0.5 * K.mean(1 + z_log_var - K.square(z_mean) - K.exp(z_log_var), axis=-1)\n",
        "    return xent_loss + kl_loss"
      ],
      "execution_count": null,
      "outputs": []
    },
    {
      "cell_type": "markdown",
      "metadata": {
        "id": "JiCXJ9vwuguu"
      },
      "source": [
        "### Compile and Summarise Model"
      ]
    },
    {
      "cell_type": "code",
      "metadata": {
        "id": "wl_orXeQuguw"
      },
      "source": [
        "# Compile and summarise model\n"
      ],
      "execution_count": null,
      "outputs": []
    },
    {
      "cell_type": "code",
      "metadata": {
        "id": "HjWg-35rugu2"
      },
      "source": [
        "# Plot training history\n",
        "def viz_loss(history): \n",
        "    \n",
        "    # Print the result from the last epoch\n",
        "    print('Last Training set loss: %s'%history.history['loss'][-1])\n",
        "    print('Last Validation set loss: %s'%history.history['val_loss'][-1])\n",
        "    \n",
        "    loss = history.history['loss']\n",
        "    val_loss = history.history['val_loss']\n",
        "    \n",
        "    epochs = range(1, len(loss) + 1)   \n",
        "    \n",
        "    plt.plot(epochs, loss, 'c--', label='Training loss')\n",
        "    plt.plot(epochs, val_loss, 'b', label='Validation loss')\n",
        "    plt.title('Training and validation loss')\n",
        "    plt.xlabel('Epochs')\n",
        "    plt.ylabel('Loss')\n",
        "    plt.legend()"
      ],
      "execution_count": null,
      "outputs": []
    },
    {
      "cell_type": "markdown",
      "metadata": {
        "id": "oBj6yUCHugu6"
      },
      "source": [
        "### Training The VAE Model"
      ]
    },
    {
      "cell_type": "code",
      "metadata": {
        "id": "YKZ0BJQbugu7"
      },
      "source": [
        "# Define callback for checkpoint \n",
        "checkpoint = callbacks.ModelCheckpoint(filepath='xxxxxxxxx', verbose=1, save_best_only=True) \n",
        "#xxxxxxxxx make file path to keep logs"
      ],
      "execution_count": null,
      "outputs": []
    },
    {
      "cell_type": "code",
      "metadata": {
        "id": "we-LK6nbugvB"
      },
      "source": [
        "# Define callback for Tensorboard\n",
        "tensorboard = callbacks.TensorBoard(log_dir='/xxxxxxxxx/logs')\n",
        "#in xxxxxxxxx path make logs folder to keeps log "
      ],
      "execution_count": null,
      "outputs": []
    },
    {
      "cell_type": "markdown",
      "metadata": {
        "id": "B7SMuqOAugvE"
      },
      "source": [
        "To call a Tensorboard, open terminal and type\n",
        ">``` tensorboard --logdir=/full_path_to_your_logs ```"
      ]
    },
    {
      "cell_type": "code",
      "metadata": {
        "id": "JS9K1EOYugvF"
      },
      "source": [
        "# Train model\n"
      ],
      "execution_count": null,
      "outputs": []
    },
    {
      "cell_type": "code",
      "metadata": {
        "id": "c7SrVPTKugvH"
      },
      "source": [
        "# Visualize loss\n"
      ],
      "execution_count": null,
      "outputs": []
    },
    {
      "cell_type": "code",
      "metadata": {
        "id": "_21-FHREh4w7"
      },
      "source": [
        "%load_ext tensorboard"
      ],
      "execution_count": null,
      "outputs": []
    },
    {
      "cell_type": "code",
      "metadata": {
        "id": "L-XaP4t5h5cG"
      },
      "source": [
        "%tensorboard --logdir = '/xxxxxxxxx/logs'"
      ],
      "execution_count": null,
      "outputs": []
    },
    {
      "cell_type": "markdown",
      "metadata": {
        "id": "JnmLooPCugvJ"
      },
      "source": [
        "### Predicting on Test Datast "
      ]
    },
    {
      "cell_type": "code",
      "metadata": {
        "id": "sEH9YwzmugvK"
      },
      "source": [
        "# Reconstruct image using test dataset\n"
      ],
      "execution_count": null,
      "outputs": []
    },
    {
      "cell_type": "code",
      "metadata": {
        "id": "nUoC2NVyugvM"
      },
      "source": [
        "# Show test image\n",
        "\n",
        "x_test_reshape = x_test.reshape(x_test.shape[0],x_test.shape[1],x_test.shape[2])\n",
        "visualize_image(x_test_reshape)"
      ],
      "execution_count": null,
      "outputs": []
    },
    {
      "cell_type": "code",
      "metadata": {
        "id": "S2MAK7bDugvP"
      },
      "source": [
        "# Show reconstruct image\n",
        "\n",
        "decoded_imgs = decoded_imgs.reshape(decoded_imgs.shape[0],decoded_imgs.shape[1],decoded_imgs.shape[2])\n",
        "visualize_image(decoded_imgs)"
      ],
      "execution_count": null,
      "outputs": []
    },
    {
      "cell_type": "markdown",
      "metadata": {
        "id": "h3p7l4h9ugvU"
      },
      "source": [
        "### Try Randomly Generate Data"
      ]
    },
    {
      "cell_type": "code",
      "metadata": {
        "id": "7s45c4g5ugvV"
      },
      "source": [
        "# Randomly generate a latent vector\n",
        "\n",
        "n = 15\n",
        "digit_size = 28\n",
        "figure = np.zeros((digit_size * n, digit_size * n))\n",
        "grid_x = norm.ppf(np.linspace(0.05, 0.95, n))\n",
        "grid_y = norm.ppf(np.linspace(0.05, 0.95, n))\n",
        "\n",
        "random_input = np.random.uniform(high=2,low=-2,size=(64,latent_dim))"
      ],
      "execution_count": null,
      "outputs": []
    },
    {
      "cell_type": "code",
      "metadata": {
        "id": "kXpDAizDugvZ"
      },
      "source": [
        "# Reconstruct image\n"
      ],
      "execution_count": null,
      "outputs": []
    },
    {
      "cell_type": "code",
      "metadata": {
        "id": "n-F-SX2Kugvc"
      },
      "source": [
        "# Exploration: X_decode's shape\n"
      ],
      "execution_count": null,
      "outputs": []
    },
    {
      "cell_type": "code",
      "metadata": {
        "id": "ZPjzRhkrugvf"
      },
      "source": [
        "# Reshape x_decode\n",
        "decode_digit = x_decoded.reshape(64,digit_size, digit_size)"
      ],
      "execution_count": null,
      "outputs": []
    },
    {
      "cell_type": "markdown",
      "metadata": {
        "id": "nmA1ZF7Iugvh"
      },
      "source": [
        "### Show Generated Image"
      ]
    },
    {
      "cell_type": "code",
      "metadata": {
        "id": "Xx7LUxZrugvi"
      },
      "source": [
        "# Define visualized image function\n",
        "\n",
        "def visualize_image(image, row=3, col=10, title='Generated hadwriting digit image'):\n",
        "    fig, ax = plt.subplots(row,col,figsize=(13,4))\n",
        "    fig.suptitle(title)\n",
        "    for i in range(row):\n",
        "        for j in range(col):\n",
        "            ax[i,j].imshow(image[j + i*10],cmap='gray')\n",
        "            ax[i,j].get_xaxis().set_visible(False)\n",
        "            ax[i,j].get_yaxis().set_visible(False)"
      ],
      "execution_count": null,
      "outputs": []
    },
    {
      "cell_type": "code",
      "metadata": {
        "id": "xWf9-uDRugvk"
      },
      "source": [
        "# Show reconstruct image\n",
        "visualize_image(decode_digit)"
      ],
      "execution_count": null,
      "outputs": []
    },
    {
      "cell_type": "markdown",
      "metadata": {
        "id": "KkLh4ZCfugvn"
      },
      "source": [
        "### Scan The Latent Space"
      ]
    },
    {
      "cell_type": "code",
      "metadata": {
        "id": "eLurXOcjugvo"
      },
      "source": [
        "# Display a 2D manifold of the digits\n",
        "\n",
        "n = 15  # figure with 15x15 digits\n",
        "digit_size = 28\n",
        "figure = np.zeros((digit_size * n, digit_size * n))\n",
        "# we will sample n points within [-15, 15] standard deviations\n",
        "grid_x = np.linspace(-15, 15, n)\n",
        "grid_y = np.linspace(-15, 15, n)\n",
        "\n",
        "for i, yi in enumerate(grid_x):\n",
        "    for j, xi in enumerate(grid_y):\n",
        "        z_sample = np.array([[xi, yi]]) * 5e-4\n",
        "        x_decoded = decoder.predict(z_sample)\n",
        "        digit = x_decoded[0].reshape(digit_size, digit_size)\n",
        "        figure[i * digit_size: (i + 1) * digit_size,\n",
        "               j * digit_size: (j + 1) * digit_size] = digit\n",
        "\n",
        "plt.figure(figsize=(10, 10))\n",
        "plt.imshow(figure)\n",
        "plt.show()"
      ],
      "execution_count": null,
      "outputs": []
    },
    {
      "cell_type": "markdown",
      "metadata": {
        "id": "rd2rQZrNugvq"
      },
      "source": [
        "### Visualize Latent Space \n",
        "\n",
        "The colored clusters is a type of digit. Close clusters are digits that are structurally similar (i.e. digits that share information in the latent space)."
      ]
    },
    {
      "cell_type": "code",
      "metadata": {
        "id": "zaeLN0Onugvr"
      },
      "source": [
        "# Estimate latent space from test set\n"
      ],
      "execution_count": null,
      "outputs": []
    },
    {
      "cell_type": "code",
      "metadata": {
        "id": "IFNm3310ugvu"
      },
      "source": [
        "# Define latent space visualizatio function\n",
        "\n",
        "def show_latent_space(encoded_imgs):\n",
        "    plt.figure(figsize=(10, 8))\n",
        "    plt.scatter(encoded_imgs[:, 0], encoded_imgs[:, 1], \n",
        "                c=y_test,alpha=.7, s=3**2, cmap='viridis')\n",
        "    plt.colorbar()\n",
        "    plt.show()"
      ],
      "execution_count": null,
      "outputs": []
    },
    {
      "cell_type": "code",
      "metadata": {
        "id": "a_DbE-fKugvy"
      },
      "source": [
        "# Show latent space\n",
        "show_latent_space(x_test_encoded)"
      ],
      "execution_count": null,
      "outputs": []
    },
    {
      "cell_type": "markdown",
      "metadata": {
        "id": "gpXkuzNEdS3M"
      },
      "source": [
        "# Discussion"
      ]
    },
    {
      "cell_type": "markdown",
      "metadata": {
        "id": "_e4r8S_SdXj4"
      },
      "source": [
        "\n",
        "Write down why you design this architecture or why you choose this set of parameter</br>\n",
        "You should have at least 1 different architectures/set of hyperparameters per person in your team</br>\n",
        "*Note: For the last step, please turn off a verbose during training"
      ]
    },
    {
      "cell_type": "code",
      "metadata": {
        "id": "3IlT1BPPd5mM"
      },
      "source": [
        ""
      ],
      "execution_count": null,
      "outputs": []
    },
    {
      "cell_type": "code",
      "metadata": {
        "id": "Gs1PiaN2d5qe"
      },
      "source": [
        ""
      ],
      "execution_count": null,
      "outputs": []
    },
    {
      "cell_type": "code",
      "metadata": {
        "id": "UEkiNe5Zd5uI"
      },
      "source": [
        ""
      ],
      "execution_count": null,
      "outputs": []
    },
    {
      "cell_type": "code",
      "metadata": {
        "id": "IqAa6y0md56U"
      },
      "source": [
        ""
      ],
      "execution_count": null,
      "outputs": []
    },
    {
      "cell_type": "code",
      "metadata": {
        "id": "apLlXHRPdSFA"
      },
      "source": [
        ""
      ],
      "execution_count": null,
      "outputs": []
    },
    {
      "cell_type": "markdown",
      "metadata": {
        "id": "d4KL7cCFugv1"
      },
      "source": [
        "# [Optional] To play further with image generation\n",
        "You can try variational autoencoder model with the following dataset: </br>\n",
        "1. Cat & Dog https://www.kaggle.com/c/dogs-vs-cats/data </br>\n",
        "2. Celebrity image (for those who have high computational power) http://mmlab.ie.cuhk.edu.hk/projects/CelebA.html</br>\n",
        "\n",
        "### More on Autoencoder Model\n",
        "\n",
        "Autoencoder tutorial: \n",
        "1. https://www.datacamp.com/community/tutorials/autoencoder-keras-tutorial\n",
        "2. https://www.kaggle.com/rvislaywade/visualizing-mnist-using-a-variational-autoencoder\n",
        "\n"
      ]
    },
    {
      "cell_type": "code",
      "metadata": {
        "id": "3IPHmKTYugv2"
      },
      "source": [
        ""
      ],
      "execution_count": null,
      "outputs": []
    }
  ]
}