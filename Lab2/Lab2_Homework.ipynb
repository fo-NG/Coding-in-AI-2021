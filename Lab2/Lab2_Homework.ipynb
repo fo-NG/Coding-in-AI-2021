{
 "cells": [
  {
   "cell_type": "markdown",
   "metadata": {
    "colab_type": "text",
    "id": "bZ_6lwmhBTht"
   },
   "source": [
    "# Lab 1: Linear Regression / Logistic Regression and Decision Tree\n",
    "\n",
    "- Please write your name and student id everytime"
   ]
  },
  {
   "cell_type": "markdown",
   "metadata": {
    "colab_type": "text",
    "id": "WnEgyuH0BThu"
   },
   "source": [
    "## Lab Instruction *<< Please Read*\n",
    "\n",
    "In this lab, you are to create a a Linear Regression and logistic regression model to predict the sale price of <br>\n",
    "houses (Low, High) from a given set of attributes. <br>\n",
    "The data file is`lab2_dataset.csv` <br>\n",
    "Note that you need to explore and process/drop attributes, <br>\n",
    "and map numerical values of sale prices to categorical values (Low, High)"
   ]
  },
  {
   "cell_type": "markdown",
   "metadata": {
    "colab_type": "text",
    "id": "WKkqyYKwBThv"
   },
   "source": [
    "###  1. Import the Dataset and Learn About the Data\n"
   ]
  },
  {
   "cell_type": "code",
   "execution_count": 56,
   "metadata": {
    "colab": {},
    "colab_type": "code",
    "id": "py5jX1D7BThw",
    "outputId": "8e1f4ed2-1f9f-4bdf-b3e4-0887ef041801"
   },
   "outputs": [
    {
     "data": {
      "text/html": [
       "<div>\n",
       "<style scoped>\n",
       "    .dataframe tbody tr th:only-of-type {\n",
       "        vertical-align: middle;\n",
       "    }\n",
       "\n",
       "    .dataframe tbody tr th {\n",
       "        vertical-align: top;\n",
       "    }\n",
       "\n",
       "    .dataframe thead th {\n",
       "        text-align: right;\n",
       "    }\n",
       "</style>\n",
       "<table border=\"1\" class=\"dataframe\">\n",
       "  <thead>\n",
       "    <tr style=\"text-align: right;\">\n",
       "      <th></th>\n",
       "      <th>Id</th>\n",
       "      <th>Foundation</th>\n",
       "      <th>1stFlrSF</th>\n",
       "      <th>KitchenQual</th>\n",
       "      <th>Fireplaces</th>\n",
       "      <th>HeatingQC</th>\n",
       "      <th>FullBath</th>\n",
       "      <th>BsmtQual</th>\n",
       "      <th>OpenPorchSF</th>\n",
       "      <th>GarageYrBlt</th>\n",
       "      <th>...</th>\n",
       "      <th>BsmtFinType1</th>\n",
       "      <th>YearBuilt</th>\n",
       "      <th>GarageArea</th>\n",
       "      <th>TotRmsAbvGrd</th>\n",
       "      <th>GarageCars</th>\n",
       "      <th>GrLivArea</th>\n",
       "      <th>YearRemodAdd</th>\n",
       "      <th>LotFrontage</th>\n",
       "      <th>Fence</th>\n",
       "      <th>SalePrice</th>\n",
       "    </tr>\n",
       "  </thead>\n",
       "  <tbody>\n",
       "    <tr>\n",
       "      <th>0</th>\n",
       "      <td>1</td>\n",
       "      <td>PConc</td>\n",
       "      <td>856</td>\n",
       "      <td>Gd</td>\n",
       "      <td>0</td>\n",
       "      <td>Ex</td>\n",
       "      <td>2</td>\n",
       "      <td>Gd</td>\n",
       "      <td>61</td>\n",
       "      <td>2003.0</td>\n",
       "      <td>...</td>\n",
       "      <td>GLQ</td>\n",
       "      <td>2003</td>\n",
       "      <td>548</td>\n",
       "      <td>8</td>\n",
       "      <td>2</td>\n",
       "      <td>1710</td>\n",
       "      <td>2003</td>\n",
       "      <td>65.0</td>\n",
       "      <td>NaN</td>\n",
       "      <td>208500</td>\n",
       "    </tr>\n",
       "    <tr>\n",
       "      <th>1</th>\n",
       "      <td>2</td>\n",
       "      <td>CBlock</td>\n",
       "      <td>1262</td>\n",
       "      <td>TA</td>\n",
       "      <td>1</td>\n",
       "      <td>Ex</td>\n",
       "      <td>2</td>\n",
       "      <td>Gd</td>\n",
       "      <td>0</td>\n",
       "      <td>1976.0</td>\n",
       "      <td>...</td>\n",
       "      <td>ALQ</td>\n",
       "      <td>1976</td>\n",
       "      <td>460</td>\n",
       "      <td>6</td>\n",
       "      <td>2</td>\n",
       "      <td>1262</td>\n",
       "      <td>1976</td>\n",
       "      <td>80.0</td>\n",
       "      <td>NaN</td>\n",
       "      <td>181500</td>\n",
       "    </tr>\n",
       "    <tr>\n",
       "      <th>2</th>\n",
       "      <td>3</td>\n",
       "      <td>PConc</td>\n",
       "      <td>920</td>\n",
       "      <td>Gd</td>\n",
       "      <td>1</td>\n",
       "      <td>Ex</td>\n",
       "      <td>2</td>\n",
       "      <td>Gd</td>\n",
       "      <td>42</td>\n",
       "      <td>2001.0</td>\n",
       "      <td>...</td>\n",
       "      <td>GLQ</td>\n",
       "      <td>2001</td>\n",
       "      <td>608</td>\n",
       "      <td>6</td>\n",
       "      <td>2</td>\n",
       "      <td>1786</td>\n",
       "      <td>2002</td>\n",
       "      <td>68.0</td>\n",
       "      <td>NaN</td>\n",
       "      <td>223500</td>\n",
       "    </tr>\n",
       "    <tr>\n",
       "      <th>3</th>\n",
       "      <td>4</td>\n",
       "      <td>BrkTil</td>\n",
       "      <td>961</td>\n",
       "      <td>Gd</td>\n",
       "      <td>1</td>\n",
       "      <td>Gd</td>\n",
       "      <td>1</td>\n",
       "      <td>TA</td>\n",
       "      <td>35</td>\n",
       "      <td>1998.0</td>\n",
       "      <td>...</td>\n",
       "      <td>ALQ</td>\n",
       "      <td>1915</td>\n",
       "      <td>642</td>\n",
       "      <td>7</td>\n",
       "      <td>3</td>\n",
       "      <td>1717</td>\n",
       "      <td>1970</td>\n",
       "      <td>60.0</td>\n",
       "      <td>NaN</td>\n",
       "      <td>140000</td>\n",
       "    </tr>\n",
       "    <tr>\n",
       "      <th>4</th>\n",
       "      <td>5</td>\n",
       "      <td>PConc</td>\n",
       "      <td>1145</td>\n",
       "      <td>Gd</td>\n",
       "      <td>1</td>\n",
       "      <td>Ex</td>\n",
       "      <td>2</td>\n",
       "      <td>Gd</td>\n",
       "      <td>84</td>\n",
       "      <td>2000.0</td>\n",
       "      <td>...</td>\n",
       "      <td>GLQ</td>\n",
       "      <td>2000</td>\n",
       "      <td>836</td>\n",
       "      <td>9</td>\n",
       "      <td>3</td>\n",
       "      <td>2198</td>\n",
       "      <td>2000</td>\n",
       "      <td>84.0</td>\n",
       "      <td>NaN</td>\n",
       "      <td>250000</td>\n",
       "    </tr>\n",
       "  </tbody>\n",
       "</table>\n",
       "<p>5 rows × 22 columns</p>\n",
       "</div>"
      ],
      "text/plain": [
       "   Id Foundation  1stFlrSF KitchenQual  Fireplaces HeatingQC  FullBath  \\\n",
       "0   1      PConc       856          Gd           0        Ex         2   \n",
       "1   2     CBlock      1262          TA           1        Ex         2   \n",
       "2   3      PConc       920          Gd           1        Ex         2   \n",
       "3   4     BrkTil       961          Gd           1        Gd         1   \n",
       "4   5      PConc      1145          Gd           1        Ex         2   \n",
       "\n",
       "  BsmtQual  OpenPorchSF  GarageYrBlt  ... BsmtFinType1  YearBuilt GarageArea  \\\n",
       "0       Gd           61       2003.0  ...          GLQ       2003        548   \n",
       "1       Gd            0       1976.0  ...          ALQ       1976        460   \n",
       "2       Gd           42       2001.0  ...          GLQ       2001        608   \n",
       "3       TA           35       1998.0  ...          ALQ       1915        642   \n",
       "4       Gd           84       2000.0  ...          GLQ       2000        836   \n",
       "\n",
       "   TotRmsAbvGrd  GarageCars  GrLivArea  YearRemodAdd  LotFrontage  Fence  \\\n",
       "0             8           2       1710          2003         65.0    NaN   \n",
       "1             6           2       1262          1976         80.0    NaN   \n",
       "2             6           2       1786          2002         68.0    NaN   \n",
       "3             7           3       1717          1970         60.0    NaN   \n",
       "4             9           3       2198          2000         84.0    NaN   \n",
       "\n",
       "   SalePrice  \n",
       "0     208500  \n",
       "1     181500  \n",
       "2     223500  \n",
       "3     140000  \n",
       "4     250000  \n",
       "\n",
       "[5 rows x 22 columns]"
      ]
     },
     "execution_count": 56,
     "metadata": {},
     "output_type": "execute_result"
    }
   ],
   "source": [
    "import pandas as pd\n",
    "df = pd.read_csv('lab2_dataset.csv')\n",
    "df.head()"
   ]
  },
  {
   "cell_type": "code",
   "execution_count": null,
   "metadata": {},
   "outputs": [],
   "source": []
  },
  {
   "cell_type": "code",
   "execution_count": null,
   "metadata": {},
   "outputs": [],
   "source": []
  },
  {
   "cell_type": "code",
   "execution_count": null,
   "metadata": {},
   "outputs": [],
   "source": []
  },
  {
   "cell_type": "code",
   "execution_count": null,
   "metadata": {},
   "outputs": [],
   "source": []
  },
  {
   "cell_type": "markdown",
   "metadata": {
    "colab_type": "text",
    "id": "DRiNanupBTiF"
   },
   "source": [
    "###  2. Preprocessing\n",
    "\n",
    "Use techniques that you have learned to preprocess the data. **For example**, \n",
    "-  Remove non-informative features\n",
    "-  Remove features with too many NA\n",
    "-  Remove rows with incomplete data\n",
    "-  Remove features with highly unbalanced labels\n",
    "-  Encode categorical variables as appropriate"
   ]
  },
  {
   "cell_type": "markdown",
   "metadata": {
    "colab_type": "text",
    "id": "hwv39igzBTiG"
   },
   "source": [
    "> You can use any other preprocess techniques as long as it make logical sense.\n",
    "\n",
    "\n",
    "- Drop column that have high NA values\n",
    "- Drop person specific column ( Id )\n",
    "- Do feature selection"
   ]
  },
  {
   "cell_type": "code",
   "execution_count": null,
   "metadata": {},
   "outputs": [],
   "source": []
  },
  {
   "cell_type": "code",
   "execution_count": null,
   "metadata": {},
   "outputs": [],
   "source": []
  },
  {
   "cell_type": "code",
   "execution_count": null,
   "metadata": {},
   "outputs": [],
   "source": []
  },
  {
   "cell_type": "markdown",
   "metadata": {
    "colab_type": "text",
    "id": "_FieEuD2BTiW"
   },
   "source": [
    "Separate feature and target"
   ]
  },
  {
   "cell_type": "code",
   "execution_count": null,
   "metadata": {},
   "outputs": [],
   "source": []
  },
  {
   "cell_type": "markdown",
   "metadata": {
    "colab_type": "text",
    "id": "ZyIIPkVqBTia"
   },
   "source": [
    "### 3. Model Training \n",
    "We will use Scikit-learn package to build a model.\n",
    "- http://scikit-learn.org/stable/\n",
    "\n",
    "Model Evaluation Method\n",
    "- Split into train set and test set"
   ]
  },
  {
   "cell_type": "code",
   "execution_count": null,
   "metadata": {},
   "outputs": [],
   "source": []
  },
  {
   "cell_type": "code",
   "execution_count": null,
   "metadata": {},
   "outputs": [],
   "source": []
  },
  {
   "cell_type": "markdown",
   "metadata": {
    "colab_type": "text",
    "id": "CB1sVHB9BTid"
   },
   "source": [
    "- Fit Logistic Regression model"
   ]
  },
  {
   "cell_type": "code",
   "execution_count": null,
   "metadata": {},
   "outputs": [],
   "source": []
  },
  {
   "cell_type": "markdown",
   "metadata": {},
   "source": [
    "   - Fit Linear Regression model"
   ]
  },
  {
   "cell_type": "code",
   "execution_count": null,
   "metadata": {},
   "outputs": [],
   "source": []
  },
  {
   "cell_type": "markdown",
   "metadata": {},
   "source": [
    "   - Fit Decision Tree model"
   ]
  },
  {
   "cell_type": "code",
   "execution_count": null,
   "metadata": {},
   "outputs": [],
   "source": []
  },
  {
   "cell_type": "markdown",
   "metadata": {
    "colab_type": "text",
    "id": "tcD29VLrBTin"
   },
   "source": [
    "\n",
    "### 4. Model Tuning &  Result Analysis \n",
    "\n",
    "try answering the following questions.\n",
    "1. Analyze the model results. Do you think the model is good enough? <br>\n",
    "2. What is the C2 Score?\n",
    "3. If you change your preprosessing method, can you improve the model?\n",
    "4. If you change your parameters setting, can you improve the model?\n",
    "5. Does it overfit or underfit the data? \n",
    "\n",
    "\n",
    "Explain and provide evidence to support your claims.\n",
    "\n",
    "You can look at :\n",
    "\n",
    "the parameters and functions of Logistic Regression at http://scikit-learn.org/stable/modules/generated/sklearn.linear_model.LogisticRegression.html\n",
    "\n",
    "the parameters and functions of Logistic Regression at http://scikit-learn.org/stable/modules/generated/sklearn.linear_model.LogisticRegression.html\n",
    "\n",
    "the parameters and functions of Logistic Regression at http://scikit-learn.org/stable/modules/generated/sklearn.linear_model.LogisticRegression.html"
   ]
  },
  {
   "cell_type": "markdown",
   "metadata": {},
   "source": [
    "#### ANS 1:"
   ]
  },
  {
   "cell_type": "markdown",
   "metadata": {},
   "source": [
    "#### ANS 2:"
   ]
  },
  {
   "cell_type": "markdown",
   "metadata": {},
   "source": [
    "#### ANS 3:"
   ]
  },
  {
   "cell_type": "markdown",
   "metadata": {},
   "source": [
    "#### ANS 4:"
   ]
  },
  {
   "cell_type": "markdown",
   "metadata": {},
   "source": [
    "#### ANS 5:"
   ]
  },
  {
   "cell_type": "markdown",
   "metadata": {},
   "source": [
    "   - Model Tuning Logistic Regression model"
   ]
  },
  {
   "cell_type": "code",
   "execution_count": null,
   "metadata": {},
   "outputs": [],
   "source": []
  },
  {
   "cell_type": "markdown",
   "metadata": {},
   "source": [
    "   - Model Tuning Decision Tree model"
   ]
  },
  {
   "cell_type": "code",
   "execution_count": null,
   "metadata": {},
   "outputs": [],
   "source": []
  },
  {
   "cell_type": "markdown",
   "metadata": {},
   "source": [
    "   - Model Tuning Linear Regression model"
   ]
  },
  {
   "cell_type": "code",
   "execution_count": null,
   "metadata": {},
   "outputs": [],
   "source": []
  },
  {
   "cell_type": "markdown",
   "metadata": {
    "colab_type": "text",
    "id": "XrkI0bCnBTiw"
   },
   "source": [
    "## Read more:\n",
    "- **Overfit vs Underfit:** https://towardsdatascience.com/overfitting-vs-underfitting-a-complete-example-d05dd7e19765\n",
    "- **Bias-Variance Tradeoff** https://towardsdatascience.com/understanding-the-bias-variance-tradeoff-165e6942b229\n",
    "- **Train, Test, Validation set** https://towardsdatascience.com/train-validation-and-test-sets-72cb40cba9e7"
   ]
  },
  {
   "cell_type": "markdown",
   "metadata": {
    "colab_type": "text",
    "id": "1SnQaeIaBTiw"
   },
   "source": [
    "### 5. (Optional) Mutlinomial Logistic Regression Model\n",
    "\n",
    "Binning the sale price into three classes : `Low`, `Medium`, `High`.\n",
    "Then, apply the logistic regression model and evaluate the model performance. <br>\n",
    "See http://scikit-learn.org/stable/modules/generated/sklearn.linear_model.LogisticRegression.html"
   ]
  },
  {
   "cell_type": "code",
   "execution_count": null,
   "metadata": {
    "colab": {},
    "colab_type": "code",
    "id": "jKjCsuOWBTix"
   },
   "outputs": [],
   "source": []
  },
  {
   "cell_type": "code",
   "execution_count": null,
   "metadata": {},
   "outputs": [],
   "source": []
  },
  {
   "cell_type": "code",
   "execution_count": null,
   "metadata": {},
   "outputs": [],
   "source": []
  }
 ],
 "metadata": {
  "colab": {
   "name": "Lab1_solution.ipynb",
   "provenance": [],
   "version": "0.3.2"
  },
  "kernelspec": {
   "display_name": "Python 3",
   "language": "python",
   "name": "python3"
  },
  "language_info": {
   "codemirror_mode": {
    "name": "ipython",
    "version": 3
   },
   "file_extension": ".py",
   "mimetype": "text/x-python",
   "name": "python",
   "nbconvert_exporter": "python",
   "pygments_lexer": "ipython3",
   "version": "3.6.4"
  }
 },
 "nbformat": 4,
 "nbformat_minor": 1
}
