{
  "nbformat": 4,
  "nbformat_minor": 0,
  "metadata": {
    "colab": {
      "name": "1_Lab3_practice.ipynb",
      "provenance": []
    },
    "kernelspec": {
      "display_name": "Python 3",
      "language": "python",
      "name": "python3"
    },
    "language_info": {
      "codemirror_mode": {
        "name": "ipython",
        "version": 3
      },
      "file_extension": ".py",
      "mimetype": "text/x-python",
      "name": "python",
      "nbconvert_exporter": "python",
      "pygments_lexer": "ipython3",
      "version": "3.6.4"
    }
  },
  "cells": [
    {
      "cell_type": "markdown",
      "metadata": {
        "id": "bZ_6lwmhBTht"
      },
      "source": [
        "# Practice Lab 3 : ANN\n",
        "- Please write your name and student id everytime"
      ]
    },
    {
      "cell_type": "code",
      "metadata": {
        "colab": {
          "base_uri": "https://localhost:8080/"
        },
        "id": "HQONUEK3QGFn",
        "outputId": "051c24f5-be1a-4281-c8a2-dee784aabb8c"
      },
      "source": [
        " import keras; print(keras.__version__)"
      ],
      "execution_count": 4,
      "outputs": [
        {
          "output_type": "stream",
          "text": [
            "2.6.0\n"
          ],
          "name": "stdout"
        }
      ]
    },
    {
      "cell_type": "markdown",
      "metadata": {
        "id": "WKkqyYKwBThv"
      },
      "source": [
        "###  1. Import the Dataset and Learn About the Data\n"
      ]
    },
    {
      "cell_type": "code",
      "metadata": {
        "id": "fO1frRx6_5_K"
      },
      "source": [
        "#Import data"
      ],
      "execution_count": 8,
      "outputs": []
    },
    {
      "cell_type": "code",
      "metadata": {
        "colab": {
          "base_uri": "https://localhost:8080/",
          "height": 162
        },
        "id": "VqsMQnVWBTh2",
        "outputId": "959f7e13-b570-4255-9403-77b9f4257a35"
      },
      "source": [
        "bankData.describe()"
      ],
      "execution_count": 5,
      "outputs": [
        {
          "output_type": "error",
          "ename": "NameError",
          "evalue": "ignored",
          "traceback": [
            "\u001b[0;31m---------------------------------------------------------------------------\u001b[0m",
            "\u001b[0;31mNameError\u001b[0m                                 Traceback (most recent call last)",
            "\u001b[0;32m<ipython-input-5-55fdd9e4f134>\u001b[0m in \u001b[0;36m<module>\u001b[0;34m()\u001b[0m\n\u001b[0;32m----> 1\u001b[0;31m \u001b[0mbankData\u001b[0m\u001b[0;34m.\u001b[0m\u001b[0mdescribe\u001b[0m\u001b[0;34m(\u001b[0m\u001b[0;34m)\u001b[0m\u001b[0;34m\u001b[0m\u001b[0;34m\u001b[0m\u001b[0m\n\u001b[0m",
            "\u001b[0;31mNameError\u001b[0m: name 'bankData' is not defined"
          ]
        }
      ]
    },
    {
      "cell_type": "code",
      "metadata": {
        "colab": {
          "base_uri": "https://localhost:8080/",
          "height": 162
        },
        "id": "p5RfuIVFBTh5",
        "outputId": "7daf76fd-dbec-4f32-8336-a954b7098172"
      },
      "source": [
        "bankData.info()"
      ],
      "execution_count": 6,
      "outputs": [
        {
          "output_type": "error",
          "ename": "NameError",
          "evalue": "ignored",
          "traceback": [
            "\u001b[0;31m---------------------------------------------------------------------------\u001b[0m",
            "\u001b[0;31mNameError\u001b[0m                                 Traceback (most recent call last)",
            "\u001b[0;32m<ipython-input-6-25abb9929941>\u001b[0m in \u001b[0;36m<module>\u001b[0;34m()\u001b[0m\n\u001b[0;32m----> 1\u001b[0;31m \u001b[0mbankData\u001b[0m\u001b[0;34m.\u001b[0m\u001b[0minfo\u001b[0m\u001b[0;34m(\u001b[0m\u001b[0;34m)\u001b[0m\u001b[0;34m\u001b[0m\u001b[0;34m\u001b[0m\u001b[0m\n\u001b[0m",
            "\u001b[0;31mNameError\u001b[0m: name 'bankData' is not defined"
          ]
        }
      ]
    },
    {
      "cell_type": "code",
      "metadata": {
        "id": "afsF--d-BTiC"
      },
      "source": [
        "bankData.isnull().sum()"
      ],
      "execution_count": null,
      "outputs": []
    },
    {
      "cell_type": "markdown",
      "metadata": {
        "id": "DRiNanupBTiF"
      },
      "source": [
        "###  2. Preprocessing\n",
        "\n",
        "Use techniques that you have learned to preprocess the data. "
      ]
    },
    {
      "cell_type": "markdown",
      "metadata": {
        "id": "JH-b-AZZN8HX"
      },
      "source": [
        "##### 2.1 Binary encoding\n",
        "Use .replace to replace the following columns:\n",
        "\n",
        "- y\n",
        "- default\n",
        "- housing\n",
        "- loan\n",
        "\n",
        "from string to number"
      ]
    },
    {
      "cell_type": "code",
      "metadata": {
        "id": "QxDgDaYEN41D"
      },
      "source": [
        "bankData.head()"
      ],
      "execution_count": null,
      "outputs": []
    },
    {
      "cell_type": "markdown",
      "metadata": {
        "id": "7dpnIBFROGD4"
      },
      "source": [
        "#### 2.2 Convert categorical variables into dummy columns\n",
        "\n",
        "(1) Use pd.get_dummies to convert the following categorical variales into dummy columns\n",
        "- job\n",
        "- maritial\n",
        "- education\n",
        "- contact\n",
        "- month\n",
        "- poutcome"
      ]
    },
    {
      "cell_type": "code",
      "metadata": {
        "id": "5ij48p2lOAGd"
      },
      "source": [
        "bankData_1.head()"
      ],
      "execution_count": null,
      "outputs": []
    },
    {
      "cell_type": "code",
      "metadata": {
        "id": "XWSpyoI6OKCO"
      },
      "source": [
        ""
      ],
      "execution_count": null,
      "outputs": []
    },
    {
      "cell_type": "markdown",
      "metadata": {
        "id": "4hP0nqGXMhIL"
      },
      "source": [
        "#### 2.3 Train/Test separation\n",
        "\n",
        "Perform hold-out method\n",
        "- separate feature / label\n",
        "- 60% training set\n",
        "- 40% testing set\n",
        "\n",
        "use sklearn to separate data \n",
        "- more info : https://scikit-learn.org/stable/modules/generated/sklearn.model_selection.train_test_split.html"
      ]
    },
    {
      "cell_type": "code",
      "metadata": {
        "id": "dq4ruihiMhIL"
      },
      "source": [
        "#featur / label\n"
      ],
      "execution_count": null,
      "outputs": []
    },
    {
      "cell_type": "code",
      "metadata": {
        "id": "kLG_b_QcMhIM"
      },
      "source": [
        "from sklearn.model_selection import train_test_split\n",
        "\n",
        "#for bit data\n"
      ],
      "execution_count": null,
      "outputs": []
    },
    {
      "cell_type": "markdown",
      "metadata": {
        "id": "CB1sVHB9BTid"
      },
      "source": [
        "#### 2.4 Generate Model\n"
      ]
    },
    {
      "cell_type": "code",
      "metadata": {
        "id": "X2NfDxh6BTif"
      },
      "source": [
        "from keras import models\n",
        "from keras import layers"
      ],
      "execution_count": null,
      "outputs": []
    },
    {
      "cell_type": "code",
      "metadata": {
        "id": "VDDPXamlMhIO"
      },
      "source": [
        "nn = models.Sequential()\n",
        "nn.add(layers.Dense(47,activation = 'linear',input_shape=(None,47)))\n",
        "nn.add(layers.Dense(20,activation = 'linear'))\n",
        "nn.add(layers.Dense(1,activation = 'sigmoid'))"
      ],
      "execution_count": null,
      "outputs": []
    },
    {
      "cell_type": "code",
      "metadata": {
        "id": "B08RuBfiMhIO"
      },
      "source": [
        "nn.compile(optimizer='sgd', loss='binary_crossentropy', metrics=['accuracy'])"
      ],
      "execution_count": null,
      "outputs": []
    },
    {
      "cell_type": "code",
      "metadata": {
        "id": "nyB2OVUZMhIO"
      },
      "source": [
        "nn.summary()"
      ],
      "execution_count": null,
      "outputs": []
    },
    {
      "cell_type": "code",
      "metadata": {
        "id": "NRiPKOjEMhIP"
      },
      "source": [
        "import numpy as np\n",
        "X_train_add = np.expand_dims(X_train, axis=0)\n",
        "y_train_add = np.expand_dims(y_train, axis=0)"
      ],
      "execution_count": null,
      "outputs": []
    },
    {
      "cell_type": "code",
      "metadata": {
        "scrolled": true,
        "id": "qfUHiilyMhIQ"
      },
      "source": [
        "history = nn.fit(X_train_add,y_train_add,epochs=100)"
      ],
      "execution_count": null,
      "outputs": []
    },
    {
      "cell_type": "code",
      "metadata": {
        "id": "WqSei4sRMhIQ"
      },
      "source": [
        "X_test_add = np.expand_dims(X_test, axis=0)\n",
        "y_test_add = np.expand_dims(y_test, axis=0)"
      ],
      "execution_count": null,
      "outputs": []
    },
    {
      "cell_type": "code",
      "metadata": {
        "id": "p3YBKsRoMhIQ"
      },
      "source": [
        "test_loss, test_acc = nn.evaluate(X_test_add, y_test_add)\n",
        "print('Test Loss: %s\\nTest Accuracy: %s' % (test_loss,test_acc))"
      ],
      "execution_count": null,
      "outputs": []
    },
    {
      "cell_type": "code",
      "metadata": {
        "id": "0qFhhic-MhIR"
      },
      "source": [
        "history.history"
      ],
      "execution_count": null,
      "outputs": []
    },
    {
      "cell_type": "code",
      "metadata": {
        "id": "1S6VcSKcMhIR"
      },
      "source": [
        ""
      ],
      "execution_count": null,
      "outputs": []
    },
    {
      "cell_type": "code",
      "metadata": {
        "id": "86nOkaMMMhIR"
      },
      "source": [
        ""
      ],
      "execution_count": null,
      "outputs": []
    },
    {
      "cell_type": "code",
      "metadata": {
        "id": "ucZTAumSMhIR"
      },
      "source": [
        ""
      ],
      "execution_count": null,
      "outputs": []
    }
  ]
}