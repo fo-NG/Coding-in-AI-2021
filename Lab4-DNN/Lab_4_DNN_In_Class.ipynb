{
  "nbformat": 4,
  "nbformat_minor": 0,
  "metadata": {
    "kernelspec": {
      "name": "python3",
      "display_name": "Python 3"
    },
    "language_info": {
      "codemirror_mode": {
        "name": "ipython",
        "version": 3
      },
      "file_extension": ".py",
      "mimetype": "text/x-python",
      "name": "python",
      "nbconvert_exporter": "python",
      "pygments_lexer": "ipython3",
      "version": "3.6.4"
    },
    "colab": {
      "name": " Lab 5_DNN_In_Class.ipynb",
      "provenance": [],
      "collapsed_sections": []
    },
    "accelerator": "GPU"
  },
  "cells": [
    {
      "cell_type": "markdown",
      "metadata": {
        "id": "QndekWV98I-d"
      },
      "source": [
        "# Lab 5 : Keras In class\n",
        "- See https://keras.io\n",
        "- Name1, Student's ID1\n",
        "\n",
        "Name your file to Inclass5_59_34xx_.ipynb\n"
      ]
    },
    {
      "cell_type": "markdown",
      "metadata": {
        "id": "MhfxED0Q-mZ8"
      },
      "source": [
        "\n",
        "\n",
        "## Lab Instruction \n",
        "\n",
        "In this lab, you will learn to create a simple fully-connect neural network using Keras library with Tensorflow backend. We will play with MNIST data which is a Keras build-in dataset. \n",
        "and this lab has In class Discussion to answer\n",
        "\n",
        "See http://yann.lecun.com/exdb/mnist/ for data description.\n",
        "\n",
        "First, import all the library that we will use in this lab"
      ]
    },
    {
      "cell_type": "code",
      "metadata": {
        "id": "Td38pglC-wJb"
      },
      "source": [
        "from keras.datasets import mnist\n",
        "\n",
        "### Load Data ###\n",
        "\n",
        "#################"
      ],
      "execution_count": null,
      "outputs": []
    },
    {
      "cell_type": "code",
      "metadata": {
        "id": "zHQnQ3OO8I-k",
        "colab": {
          "base_uri": "https://localhost:8080/",
          "height": 35
        },
        "outputId": "b7f93f9c-7fd3-4042-c58a-eca204a296f5"
      },
      "source": [
        "import keras\n",
        "keras.__version__"
      ],
      "execution_count": null,
      "outputs": [
        {
          "output_type": "execute_result",
          "data": {
            "application/vnd.google.colaboratory.intrinsic+json": {
              "type": "string"
            },
            "text/plain": [
              "'2.6.0'"
            ]
          },
          "metadata": {},
          "execution_count": 2
        }
      ]
    },
    {
      "cell_type": "markdown",
      "metadata": {
        "id": "mqpH3q_h8I-w"
      },
      "source": [
        "## 1. Dataset\n",
        "\n",
        "We will use a build-in data 'MNIST' which is a handwritten digit number image from 0 to 9"
      ]
    },
    {
      "cell_type": "code",
      "metadata": {
        "id": "4QfNDaLy8I-0"
      },
      "source": [
        "from keras.datasets import mnist\n",
        "\n",
        "(train_images, train_labels), (test_images, test_labels) = mnist.load_data()"
      ],
      "execution_count": null,
      "outputs": []
    },
    {
      "cell_type": "markdown",
      "metadata": {
        "id": "BaQQjfnm-8JF"
      },
      "source": [
        "### Learn About the Data\n",
        "\n",
        "Understand your data. For example, its shape, format, datatype, structure, distribution, data classes, etc."
      ]
    },
    {
      "cell_type": "markdown",
      "metadata": {
        "id": "P2AXDvmZ8I-_"
      },
      "source": [
        "### Type of dataset for this \n",
        "use %type( variable ) to see type of dataset"
      ]
    },
    {
      "cell_type": "code",
      "metadata": {
        "id": "1LeWLmo58I_D",
        "colab": {
          "base_uri": "https://localhost:8080/"
        },
        "outputId": "bd2187f0-6ac8-47dd-d7b0-532b1c51935a"
      },
      "source": [
        "print('Feature type: %s'%type(train_images))\n",
        "print('Label type: %s'%type(train_labels))"
      ],
      "execution_count": null,
      "outputs": [
        {
          "output_type": "stream",
          "name": "stdout",
          "text": [
            "Feature type: <class 'numpy.ndarray'>\n",
            "Label type: <class 'numpy.ndarray'>\n"
          ]
        }
      ]
    },
    {
      "cell_type": "markdown",
      "metadata": {
        "id": "SzyfnBoP8I_N"
      },
      "source": [
        "### Type of value in the dataset"
      ]
    },
    {
      "cell_type": "code",
      "metadata": {
        "id": "2jstyzPx8I_P",
        "colab": {
          "base_uri": "https://localhost:8080/"
        },
        "outputId": "cbd2754f-ec09-4355-813c-37b38d3ddd1f"
      },
      "source": [
        "print('Feature data type: %s'%train_images.dtype)\n",
        "print('Label data type: %s'%train_labels.dtype)"
      ],
      "execution_count": null,
      "outputs": [
        {
          "output_type": "stream",
          "name": "stdout",
          "text": [
            "Feature data type: uint8\n",
            "Label data type: uint8\n"
          ]
        }
      ]
    },
    {
      "cell_type": "markdown",
      "metadata": {
        "id": "KsHVuP8j8I_U"
      },
      "source": [
        "### Shape"
      ]
    },
    {
      "cell_type": "code",
      "metadata": {
        "id": "lSQEH3VW8I_W",
        "colab": {
          "base_uri": "https://localhost:8080/"
        },
        "outputId": "e4bbf7ee-41a1-4e24-ca57-335d58b88163"
      },
      "source": [
        "print('Train_set Feature shape: %s'%str(train_images.shape))\n",
        "print('Train_set Label type: %s'%str(train_labels.shape))\n",
        "print('Test_set Feature shape: %s'%str(test_images.shape))\n",
        "print('Test_set Label type: %s'%str(test_labels.shape))"
      ],
      "execution_count": null,
      "outputs": [
        {
          "output_type": "stream",
          "name": "stdout",
          "text": [
            "Train_set Feature shape: (60000, 28, 28)\n",
            "Train_set Label type: (60000,)\n",
            "Test_set Feature shape: (10000, 28, 28)\n",
            "Test_set Label type: (10000,)\n"
          ]
        }
      ]
    },
    {
      "cell_type": "markdown",
      "metadata": {
        "id": "G80j2Ky78I_b"
      },
      "source": [
        "### Dimension"
      ]
    },
    {
      "cell_type": "code",
      "metadata": {
        "id": "ETbGwXQe8I_d",
        "colab": {
          "base_uri": "https://localhost:8080/"
        },
        "outputId": "8599030c-48ec-48c9-dbca-7bb81d657760"
      },
      "source": [
        "print('Train_set Feature dimension: %s'%str(train_images.ndim))\n",
        "print('Train_set Label dimension: %s'%str(train_labels.ndim))\n",
        "print('Test_set Feature dimension: %s'%str(test_images.ndim))\n",
        "print('Test_set Label dimension: %s'%str(test_labels.ndim))"
      ],
      "execution_count": null,
      "outputs": [
        {
          "output_type": "stream",
          "name": "stdout",
          "text": [
            "Train_set Feature dimension: 3\n",
            "Train_set Label dimension: 1\n",
            "Test_set Feature dimension: 3\n",
            "Test_set Label dimension: 1\n"
          ]
        }
      ]
    },
    {
      "cell_type": "markdown",
      "metadata": {
        "id": "9ejLVp0g8I_g"
      },
      "source": [
        "### Characteristic of data "
      ]
    },
    {
      "cell_type": "code",
      "metadata": {
        "id": "PXsO7yMC8I_h",
        "colab": {
          "base_uri": "https://localhost:8080/"
        },
        "outputId": "b7ab3217-5eac-4624-93db-db8b74b46c2f"
      },
      "source": [
        "train_images[0]"
      ],
      "execution_count": null,
      "outputs": [
        {
          "output_type": "execute_result",
          "data": {
            "text/plain": [
              "array([[  0,   0,   0,   0,   0,   0,   0,   0,   0,   0,   0,   0,   0,\n",
              "          0,   0,   0,   0,   0,   0,   0,   0,   0,   0,   0,   0,   0,\n",
              "          0,   0],\n",
              "       [  0,   0,   0,   0,   0,   0,   0,   0,   0,   0,   0,   0,   0,\n",
              "          0,   0,   0,   0,   0,   0,   0,   0,   0,   0,   0,   0,   0,\n",
              "          0,   0],\n",
              "       [  0,   0,   0,   0,   0,   0,   0,   0,   0,   0,   0,   0,   0,\n",
              "          0,   0,   0,   0,   0,   0,   0,   0,   0,   0,   0,   0,   0,\n",
              "          0,   0],\n",
              "       [  0,   0,   0,   0,   0,   0,   0,   0,   0,   0,   0,   0,   0,\n",
              "          0,   0,   0,   0,   0,   0,   0,   0,   0,   0,   0,   0,   0,\n",
              "          0,   0],\n",
              "       [  0,   0,   0,   0,   0,   0,   0,   0,   0,   0,   0,   0,   0,\n",
              "          0,   0,   0,   0,   0,   0,   0,   0,   0,   0,   0,   0,   0,\n",
              "          0,   0],\n",
              "       [  0,   0,   0,   0,   0,   0,   0,   0,   0,   0,   0,   0,   3,\n",
              "         18,  18,  18, 126, 136, 175,  26, 166, 255, 247, 127,   0,   0,\n",
              "          0,   0],\n",
              "       [  0,   0,   0,   0,   0,   0,   0,   0,  30,  36,  94, 154, 170,\n",
              "        253, 253, 253, 253, 253, 225, 172, 253, 242, 195,  64,   0,   0,\n",
              "          0,   0],\n",
              "       [  0,   0,   0,   0,   0,   0,   0,  49, 238, 253, 253, 253, 253,\n",
              "        253, 253, 253, 253, 251,  93,  82,  82,  56,  39,   0,   0,   0,\n",
              "          0,   0],\n",
              "       [  0,   0,   0,   0,   0,   0,   0,  18, 219, 253, 253, 253, 253,\n",
              "        253, 198, 182, 247, 241,   0,   0,   0,   0,   0,   0,   0,   0,\n",
              "          0,   0],\n",
              "       [  0,   0,   0,   0,   0,   0,   0,   0,  80, 156, 107, 253, 253,\n",
              "        205,  11,   0,  43, 154,   0,   0,   0,   0,   0,   0,   0,   0,\n",
              "          0,   0],\n",
              "       [  0,   0,   0,   0,   0,   0,   0,   0,   0,  14,   1, 154, 253,\n",
              "         90,   0,   0,   0,   0,   0,   0,   0,   0,   0,   0,   0,   0,\n",
              "          0,   0],\n",
              "       [  0,   0,   0,   0,   0,   0,   0,   0,   0,   0,   0, 139, 253,\n",
              "        190,   2,   0,   0,   0,   0,   0,   0,   0,   0,   0,   0,   0,\n",
              "          0,   0],\n",
              "       [  0,   0,   0,   0,   0,   0,   0,   0,   0,   0,   0,  11, 190,\n",
              "        253,  70,   0,   0,   0,   0,   0,   0,   0,   0,   0,   0,   0,\n",
              "          0,   0],\n",
              "       [  0,   0,   0,   0,   0,   0,   0,   0,   0,   0,   0,   0,  35,\n",
              "        241, 225, 160, 108,   1,   0,   0,   0,   0,   0,   0,   0,   0,\n",
              "          0,   0],\n",
              "       [  0,   0,   0,   0,   0,   0,   0,   0,   0,   0,   0,   0,   0,\n",
              "         81, 240, 253, 253, 119,  25,   0,   0,   0,   0,   0,   0,   0,\n",
              "          0,   0],\n",
              "       [  0,   0,   0,   0,   0,   0,   0,   0,   0,   0,   0,   0,   0,\n",
              "          0,  45, 186, 253, 253, 150,  27,   0,   0,   0,   0,   0,   0,\n",
              "          0,   0],\n",
              "       [  0,   0,   0,   0,   0,   0,   0,   0,   0,   0,   0,   0,   0,\n",
              "          0,   0,  16,  93, 252, 253, 187,   0,   0,   0,   0,   0,   0,\n",
              "          0,   0],\n",
              "       [  0,   0,   0,   0,   0,   0,   0,   0,   0,   0,   0,   0,   0,\n",
              "          0,   0,   0,   0, 249, 253, 249,  64,   0,   0,   0,   0,   0,\n",
              "          0,   0],\n",
              "       [  0,   0,   0,   0,   0,   0,   0,   0,   0,   0,   0,   0,   0,\n",
              "          0,  46, 130, 183, 253, 253, 207,   2,   0,   0,   0,   0,   0,\n",
              "          0,   0],\n",
              "       [  0,   0,   0,   0,   0,   0,   0,   0,   0,   0,   0,   0,  39,\n",
              "        148, 229, 253, 253, 253, 250, 182,   0,   0,   0,   0,   0,   0,\n",
              "          0,   0],\n",
              "       [  0,   0,   0,   0,   0,   0,   0,   0,   0,   0,  24, 114, 221,\n",
              "        253, 253, 253, 253, 201,  78,   0,   0,   0,   0,   0,   0,   0,\n",
              "          0,   0],\n",
              "       [  0,   0,   0,   0,   0,   0,   0,   0,  23,  66, 213, 253, 253,\n",
              "        253, 253, 198,  81,   2,   0,   0,   0,   0,   0,   0,   0,   0,\n",
              "          0,   0],\n",
              "       [  0,   0,   0,   0,   0,   0,  18, 171, 219, 253, 253, 253, 253,\n",
              "        195,  80,   9,   0,   0,   0,   0,   0,   0,   0,   0,   0,   0,\n",
              "          0,   0],\n",
              "       [  0,   0,   0,   0,  55, 172, 226, 253, 253, 253, 253, 244, 133,\n",
              "         11,   0,   0,   0,   0,   0,   0,   0,   0,   0,   0,   0,   0,\n",
              "          0,   0],\n",
              "       [  0,   0,   0,   0, 136, 253, 253, 253, 212, 135, 132,  16,   0,\n",
              "          0,   0,   0,   0,   0,   0,   0,   0,   0,   0,   0,   0,   0,\n",
              "          0,   0],\n",
              "       [  0,   0,   0,   0,   0,   0,   0,   0,   0,   0,   0,   0,   0,\n",
              "          0,   0,   0,   0,   0,   0,   0,   0,   0,   0,   0,   0,   0,\n",
              "          0,   0],\n",
              "       [  0,   0,   0,   0,   0,   0,   0,   0,   0,   0,   0,   0,   0,\n",
              "          0,   0,   0,   0,   0,   0,   0,   0,   0,   0,   0,   0,   0,\n",
              "          0,   0],\n",
              "       [  0,   0,   0,   0,   0,   0,   0,   0,   0,   0,   0,   0,   0,\n",
              "          0,   0,   0,   0,   0,   0,   0,   0,   0,   0,   0,   0,   0,\n",
              "          0,   0]], dtype=uint8)"
            ]
          },
          "metadata": {},
          "execution_count": 8
        }
      ]
    },
    {
      "cell_type": "code",
      "metadata": {
        "id": "-riWqdmR8I_l",
        "colab": {
          "base_uri": "https://localhost:8080/",
          "height": 282
        },
        "outputId": "ca847e87-d755-4d43-9cee-930e3da77565"
      },
      "source": [
        "digit = train_images[2]\n",
        "\n",
        "import matplotlib.pyplot as plt\n",
        "%matplotlib inline\n",
        "\n",
        "plt.imshow(digit, cmap=plt.cm.binary)"
      ],
      "execution_count": null,
      "outputs": [
        {
          "output_type": "execute_result",
          "data": {
            "text/plain": [
              "<matplotlib.image.AxesImage at 0x7f8881b6e3d0>"
            ]
          },
          "metadata": {},
          "execution_count": 9
        },
        {
          "output_type": "display_data",
          "data": {
            "image/png": "[encoded data removed]",
            "text/plain": [
              "<Figure size 432x288 with 1 Axes>"
            ]
          },
          "metadata": {
            "needs_background": "light"
          }
        }
      ]
    },
    {
      "cell_type": "code",
      "metadata": {
        "id": "taZrMB8e8I_p",
        "colab": {
          "base_uri": "https://localhost:8080/"
        },
        "outputId": "7c721436-cc3c-4961-d268-22eaf0f8e371"
      },
      "source": [
        "train_labels"
      ],
      "execution_count": null,
      "outputs": [
        {
          "output_type": "execute_result",
          "data": {
            "text/plain": [
              "array([5, 0, 4, ..., 5, 6, 8], dtype=uint8)"
            ]
          },
          "metadata": {},
          "execution_count": 10
        }
      ]
    },
    {
      "cell_type": "markdown",
      "metadata": {
        "id": "3gln6ZVS8I_s"
      },
      "source": [
        "## 2. Create a fully-connect neural network model\n",
        "\n",
        "\n",
        "Build a two-layer neural network  using `Sequential()`\n",
        "( See https://keras.io/models/sequential ) \n",
        "> INPUT -> LINEAR -> RELU -> LINEAR -> softmax\n",
        "\n",
        "with the hidden layer of size 512\n",
        "\n",
        "See Keras Model: https://keras.io/models/about-keras-models/"
      ]
    },
    {
      "cell_type": "code",
      "metadata": {
        "id": "F71r7NXL8I_u"
      },
      "source": [
        "from keras import models\n",
        "from keras import layers"
      ],
      "execution_count": null,
      "outputs": []
    },
    {
      "cell_type": "code",
      "metadata": {
        "id": "GmIIleSP8I_w"
      },
      "source": [
        "network = models.Sequential()\n",
        "network.add(layers.Dense(512, activation='relu',input_shape=(28*28,)))\n",
        "network.add(layers.Dense(10, activation='softmax'))"
      ],
      "execution_count": null,
      "outputs": []
    },
    {
      "cell_type": "code",
      "metadata": {
        "id": "GQY_JRj3198k"
      },
      "source": [
        ""
      ],
      "execution_count": null,
      "outputs": []
    },
    {
      "cell_type": "markdown",
      "metadata": {
        "id": "O41HSYW11_F0"
      },
      "source": [
        "Compile your model with the following argument.\n",
        "\n",
        "```\n",
        "optimizer='sgd',\n",
        "loss='categorical_crossentropy',\n",
        "metrics=['accuracy']\n",
        "```"
      ]
    },
    {
      "cell_type": "code",
      "metadata": {
        "id": "-gk6VfWG8I_0"
      },
      "source": [
        "network.compile(optimizer='sgd',\n",
        "               loss='categorical_crossentropy',\n",
        "               metrics=['accuracy'])"
      ],
      "execution_count": null,
      "outputs": []
    },
    {
      "cell_type": "markdown",
      "metadata": {
        "id": "H3mMIKlJ2GsR"
      },
      "source": [
        "Let's see how our model looklike using `.summary()`\n",
        "\n"
      ]
    },
    {
      "cell_type": "code",
      "metadata": {
        "id": "qqZ_Ifo18I_3",
        "colab": {
          "base_uri": "https://localhost:8080/"
        },
        "outputId": "df9748fa-312c-4f08-c9ef-8674970c4939"
      },
      "source": [
        "network.summary()"
      ],
      "execution_count": null,
      "outputs": [
        {
          "output_type": "stream",
          "name": "stdout",
          "text": [
            "Model: \"sequential\"\n",
            "_________________________________________________________________\n",
            "Layer (type)                 Output Shape              Param #   \n",
            "=================================================================\n",
            "dense (Dense)                (None, 512)               401920    \n",
            "_________________________________________________________________\n",
            "dense_1 (Dense)              (None, 10)                5130      \n",
            "=================================================================\n",
            "Total params: 407,050\n",
            "Trainable params: 407,050\n",
            "Non-trainable params: 0\n",
            "_________________________________________________________________\n"
          ]
        }
      ]
    },
    {
      "cell_type": "markdown",
      "metadata": {
        "id": "cDHv33oh8I_5"
      },
      "source": [
        "## 3. Preprocessing Data"
      ]
    },
    {
      "cell_type": "markdown",
      "metadata": {
        "id": "KHPQweMZ6VMo"
      },
      "source": [
        "\n",
        "- Reshape the features data (flattern) and normalize the value to be between 0 and 1\n",
        "- One-hot the target data"
      ]
    },
    {
      "cell_type": "code",
      "metadata": {
        "id": "_QlWbbps8I_6"
      },
      "source": [
        "train_images = train_images.reshape(60000,28*28) # Reshape\n",
        "train_images = train_images.astype('float32')/255 # Normalize\n",
        "\n",
        "test_images = test_images.reshape(10000,28*28) # Reshape\n",
        "test_images = test_images.astype('float32')/255 # Normalize"
      ],
      "execution_count": null,
      "outputs": []
    },
    {
      "cell_type": "code",
      "metadata": {
        "id": "ZVKWyc4l8I_9"
      },
      "source": [
        "from tensorflow.keras.utils import to_categorical"
      ],
      "execution_count": null,
      "outputs": []
    },
    {
      "cell_type": "code",
      "metadata": {
        "id": "zXxAMWDr8I__"
      },
      "source": [
        "train_labels = to_categorical(train_labels)\n",
        "test_labels = to_categorical(test_labels)"
      ],
      "execution_count": null,
      "outputs": []
    },
    {
      "cell_type": "code",
      "metadata": {
        "id": "6KFFJ1xI8JAC",
        "colab": {
          "base_uri": "https://localhost:8080/"
        },
        "outputId": "d15a7c22-acb8-47c1-a3fe-54c3e4e610e0"
      },
      "source": [
        "test_labels"
      ],
      "execution_count": null,
      "outputs": [
        {
          "output_type": "execute_result",
          "data": {
            "text/plain": [
              "array([[0., 0., 0., ..., 1., 0., 0.],\n",
              "       [0., 0., 1., ..., 0., 0., 0.],\n",
              "       [0., 1., 0., ..., 0., 0., 0.],\n",
              "       ...,\n",
              "       [0., 0., 0., ..., 0., 0., 0.],\n",
              "       [0., 0., 0., ..., 0., 0., 0.],\n",
              "       [0., 0., 0., ..., 0., 0., 0.]], dtype=float32)"
            ]
          },
          "metadata": {},
          "execution_count": 18
        }
      ]
    },
    {
      "cell_type": "code",
      "metadata": {
        "id": "2jlZ2iyv8JAI",
        "colab": {
          "base_uri": "https://localhost:8080/"
        },
        "outputId": "d105e25d-3fc3-4df7-af69-2fc9c8cd9539"
      },
      "source": [
        "test_labels.shape"
      ],
      "execution_count": null,
      "outputs": [
        {
          "output_type": "execute_result",
          "data": {
            "text/plain": [
              "(10000, 10)"
            ]
          },
          "metadata": {},
          "execution_count": 19
        }
      ]
    },
    {
      "cell_type": "markdown",
      "metadata": {
        "id": "cV-IJZg98JAN"
      },
      "source": [
        "## 4. Train Model"
      ]
    },
    {
      "cell_type": "markdown",
      "metadata": {
        "id": "Gn6fpyGx6PE-"
      },
      "source": [
        "Use `.fit()` to train your neural network model and return the record of accuracy and loss value in each epoch\n",
        "\n",
        "We will train model with 10 epoch (If you confident with your computer performance, you can trian model with more epoch.)\n",
        "\n",
        "We will train with mini-batch method with each the batch size equal to 128 data.\n",
        "\n",
        "\n",
        "\n",
        "This process will take about a minute."
      ]
    },
    {
      "cell_type": "markdown",
      "metadata": {
        "id": "1ycbg0ZK_FeS"
      },
      "source": [
        "To prevent an information leak to test set, which casue an overfit, we will split the data to train set, test set, and validation set. Doing so, we will split the training data into 90% train set and 10% validation set.\n",
        "\n",
        "Since keras `validation_split` argument split the last 10% of data to be validation set, the target class may not be equally distributed in validation set. Thus, we have to use `train_test_split`  from sklearn to split the data into train set and validation set. \n"
      ]
    },
    {
      "cell_type": "code",
      "metadata": {
        "id": "5KyjlrMT8JAO",
        "colab": {
          "base_uri": "https://localhost:8080/"
        },
        "outputId": "27530272-428a-4e96-b279-2fe052fc0feb"
      },
      "source": [
        "history = network.fit(train_images,train_labels,epochs=10,validation_split=0.1,batch_size=128)"
      ],
      "execution_count": null,
      "outputs": [
        {
          "output_type": "stream",
          "name": "stdout",
          "text": [
            "Epoch 1/10\n",
            "329/329 [==============================] - 3s 6ms/step - loss: 1.2746 - accuracy: 0.7148 - val_loss: 0.7397 - val_accuracy: 0.8442\n",
            "Epoch 2/10\n",
            "329/329 [==============================] - 2s 5ms/step - loss: 0.6219 - accuracy: 0.8565 - val_loss: 0.5129 - val_accuracy: 0.8769\n",
            "Epoch 3/10\n",
            "329/329 [==============================] - 1s 4ms/step - loss: 0.4831 - accuracy: 0.8800 - val_loss: 0.4326 - val_accuracy: 0.8897\n",
            "Epoch 4/10\n",
            "329/329 [==============================] - 1s 4ms/step - loss: 0.4221 - accuracy: 0.8903 - val_loss: 0.3913 - val_accuracy: 0.8962\n",
            "Epoch 5/10\n",
            "329/329 [==============================] - 2s 5ms/step - loss: 0.3861 - accuracy: 0.8969 - val_loss: 0.3675 - val_accuracy: 0.8997\n",
            "Epoch 6/10\n",
            "329/329 [==============================] - 1s 4ms/step - loss: 0.3617 - accuracy: 0.9020 - val_loss: 0.3465 - val_accuracy: 0.9044\n",
            "Epoch 7/10\n",
            "329/329 [==============================] - 1s 4ms/step - loss: 0.3432 - accuracy: 0.9057 - val_loss: 0.3312 - val_accuracy: 0.9091\n",
            "Epoch 8/10\n",
            "329/329 [==============================] - 1s 4ms/step - loss: 0.3286 - accuracy: 0.9094 - val_loss: 0.3196 - val_accuracy: 0.9116\n",
            "Epoch 9/10\n",
            "329/329 [==============================] - 2s 5ms/step - loss: 0.3164 - accuracy: 0.9122 - val_loss: 0.3101 - val_accuracy: 0.9131\n",
            "Epoch 10/10\n",
            "329/329 [==============================] - 1s 5ms/step - loss: 0.3058 - accuracy: 0.9155 - val_loss: 0.3017 - val_accuracy: 0.9165\n"
          ]
        }
      ]
    },
    {
      "cell_type": "markdown",
      "metadata": {
        "id": "aQbe1_il6b0E"
      },
      "source": [
        "We will plot the loss and accuracy of both train set and validate set over iteration.\n",
        "\n",
        "---"
      ]
    },
    {
      "cell_type": "code",
      "metadata": {
        "id": "aB7SqY7c6f3_"
      },
      "source": [
        "import  matplotlib.pyplot  as plt\n",
        "%matplotlib inline"
      ],
      "execution_count": null,
      "outputs": []
    },
    {
      "cell_type": "code",
      "metadata": {
        "id": "ZUqRWAGe6hqy"
      },
      "source": [
        "# The function argument is a record or history of the model during training process.\n",
        "def plot_loss_fn(history):\n",
        "    loss = history.history['loss']\n",
        "    val_loss = history.history['val_loss']\n",
        "\n",
        "    epochs = range(1, len(loss) + 1)\n",
        "\n",
        "    plt.plot(epochs, loss, 'bo', label='Training loss')\n",
        "    plt.plot(epochs, val_loss, 'b', label='Validation loss')\n",
        "    plt.title('Training and validation loss')\n",
        "    plt.xlabel('Epochs')\n",
        "    plt.ylabel('Loss')\n",
        "    plt.legend()\n",
        "    \n",
        "def plot_acc_fn(history):\n",
        "\n",
        "    acc = history.history['accuracy']\n",
        "    val_acc = history.history['val_accuracy']\n",
        "    \n",
        "    epochs = range(1, len(acc) + 1)\n",
        "\n",
        "    plt.plot(epochs, acc, 'bo', label='Training acc')\n",
        "    plt.plot(epochs, val_acc, 'b', label='Validation acc')\n",
        "    plt.title('Training and validation accuracy')\n",
        "    plt.xlabel('Epochs')\n",
        "    plt.ylabel('Loss')\n",
        "    plt.legend()"
      ],
      "execution_count": null,
      "outputs": []
    },
    {
      "cell_type": "code",
      "metadata": {
        "colab": {
          "base_uri": "https://localhost:8080/",
          "height": 295
        },
        "id": "od72C00_9Id-",
        "outputId": "eb58a0f5-bdb5-457b-bae3-f1dd0c25a60e"
      },
      "source": [
        "plot_loss_fn(history)"
      ],
      "execution_count": null,
      "outputs": [
        {
          "output_type": "display_data",
          "data": {
            "image/png": "[encoded data removed]",
            "text/plain": [
              "<Figure size 432x288 with 1 Axes>"
            ]
          },
          "metadata": {
            "needs_background": "light"
          }
        }
      ]
    },
    {
      "cell_type": "code",
      "metadata": {
        "colab": {
          "base_uri": "https://localhost:8080/",
          "height": 295
        },
        "id": "Ffczq5KG96ig",
        "outputId": "d7bbcb2e-ddcc-4fdc-d4fe-e16dae225bbe"
      },
      "source": [
        "plot_acc_fn(history)"
      ],
      "execution_count": null,
      "outputs": [
        {
          "output_type": "display_data",
          "data": {
            "image/png": "[encoded data removed]",
            "text/plain": [
              "<Figure size 432x288 with 1 Axes>"
            ]
          },
          "metadata": {
            "needs_background": "light"
          }
        }
      ]
    },
    {
      "cell_type": "markdown",
      "metadata": {
        "id": "9qhV8PyQ8JAU"
      },
      "source": [
        "## 5. Evaluate Model"
      ]
    },
    {
      "cell_type": "markdown",
      "metadata": {
        "id": "BDmHNDoR-Cly"
      },
      "source": [
        "Evaluate your model with test set using `.evaluate()` and compare the result with the training set and validate set. "
      ]
    },
    {
      "cell_type": "code",
      "metadata": {
        "id": "1d6AvniW8JAV",
        "colab": {
          "base_uri": "https://localhost:8080/"
        },
        "outputId": "4d65db9a-442e-407e-eab5-8a3e9a5791d8"
      },
      "source": [
        "test_loss, test_acc = network.evaluate(test_images, test_labels)\n",
        "print('Test Loss: %s\\nTest Accuracy: %s' % (test_loss,test_acc))"
      ],
      "execution_count": null,
      "outputs": [
        {
          "output_type": "stream",
          "name": "stdout",
          "text": [
            "313/313 [==============================] - 1s 3ms/step - loss: 0.2886 - accuracy: 0.9207\n",
            "Test Loss: 0.288614958524704\n",
            "Test Accuracy: 0.9207000136375427\n"
          ]
        }
      ]
    },
    {
      "cell_type": "code",
      "metadata": {
        "id": "wyPil4Wm8JAZ",
        "colab": {
          "base_uri": "https://localhost:8080/"
        },
        "outputId": "cdd2da79-d74a-4ad2-9da3-6bb136bec1e6"
      },
      "source": [
        "history.history"
      ],
      "execution_count": null,
      "outputs": [
        {
          "output_type": "execute_result",
          "data": {
            "text/plain": [
              "{'accuracy': [0.7147856950759888,\n",
              "  0.8565000295639038,\n",
              "  0.880047619342804,\n",
              "  0.8902857303619385,\n",
              "  0.8968809247016907,\n",
              "  0.9020000100135803,\n",
              "  0.9056666493415833,\n",
              "  0.909428596496582,\n",
              "  0.9122142791748047,\n",
              "  0.9154999852180481],\n",
              " 'loss': [1.2745580673217773,\n",
              "  0.6219465732574463,\n",
              "  0.48306411504745483,\n",
              "  0.4220673441886902,\n",
              "  0.38605445623397827,\n",
              "  0.3616533577442169,\n",
              "  0.34319522976875305,\n",
              "  0.3285731375217438,\n",
              "  0.31639647483825684,\n",
              "  0.30579689145088196],\n",
              " 'val_accuracy': [0.8442222476005554,\n",
              "  0.8769444227218628,\n",
              "  0.8897222280502319,\n",
              "  0.8961666822433472,\n",
              "  0.8996666669845581,\n",
              "  0.9044444561004639,\n",
              "  0.9091110825538635,\n",
              "  0.9116111397743225,\n",
              "  0.9130555391311646,\n",
              "  0.9164999723434448],\n",
              " 'val_loss': [0.7396512627601624,\n",
              "  0.5129213333129883,\n",
              "  0.4325603246688843,\n",
              "  0.39129161834716797,\n",
              "  0.3674662411212921,\n",
              "  0.3464730978012085,\n",
              "  0.33124983310699463,\n",
              "  0.3196028769016266,\n",
              "  0.3100738525390625,\n",
              "  0.30174192786216736]}"
            ]
          },
          "metadata": {},
          "execution_count": 25
        }
      ]
    },
    {
      "cell_type": "markdown",
      "metadata": {
        "id": "5N6yXkth-Tei"
      },
      "source": [
        "### 6. Model tuning\n",
        "\n",
        "Try to tune your model by: \n",
        "1.  Change your the model structure by adding more hidden layer with any number of node and see how it affect your model.\n",
        "2. Try Increasing epoch and see how it affect your model? Does the result better or it get overfit?"
      ]
    },
    {
      "cell_type": "code",
      "metadata": {
        "id": "FqXMai7P-i-8"
      },
      "source": [
        ""
      ],
      "execution_count": null,
      "outputs": []
    },
    {
      "cell_type": "code",
      "metadata": {
        "id": "vCdaw6W6-jB3"
      },
      "source": [
        ""
      ],
      "execution_count": null,
      "outputs": []
    },
    {
      "cell_type": "markdown",
      "metadata": {
        "id": "VL7VLqEl-gB-"
      },
      "source": [
        "### 7. Discussion and Result\n",
        "Q :Write down your analysis from previous step\n",
        "\n",
        "**ANSWER**"
      ]
    },
    {
      "cell_type": "code",
      "metadata": {
        "id": "hjWhRphv-gsU"
      },
      "source": [
        ""
      ],
      "execution_count": null,
      "outputs": []
    }
  ]
}